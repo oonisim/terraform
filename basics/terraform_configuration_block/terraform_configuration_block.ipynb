{
 "cells": [
  {
   "cell_type": "markdown",
   "id": "67dad08a",
   "metadata": {},
   "source": [
    "# Terraform configuration\n",
    "\n",
    "* [Terraform Settings](https://www.terraform.io/docs/language/settings/index.html)\n",
    "\n",
    "> The special terraform configuration block type is used to configure some behaviors of Terraform itself, such as requiring a minimum Terraform version to apply your configuration.\n",
    "\n",
    "1. Terraform runtime version\n",
    "2. Backend\n",
    "3. Resource providers and their versions "
   ]
  },
  {
   "cell_type": "code",
   "execution_count": 83,
   "id": "3f9f834d",
   "metadata": {},
   "outputs": [
    {
     "name": "stdout",
     "output_type": "stream",
     "text": [
      "#--------------------------------------------------------------------------------\n",
      "# [terraform configuration block]\n",
      "# https://www.terraform.io/docs/language/settings/index.html#specifying-a-required-terraform-version\n",
      "#--------------------------------------------------------------------------------\n",
      "terraform {\n",
      "  #--------------------------------------------------------------------------------\n",
      "  # required_version\n",
      "  # https://www.terraform.io/docs/language/expressions/version-constraints.html\n",
      "  # Version Constraints\n",
      "  # https://www.terraform.io/docs/language/expressions/version-constraints.html\n",
      "  #--------------------------------------------------------------------------------\n",
      "  required_version = \"~> 1.0.0\"\n",
      "\n",
      "  #--------------------------------------------------------------------------------\n",
      "  # workspace backend\n",
      "  # https://www.terraform.io/docs/language/state/workspaces.html\n",
      "  # The persistent data stored in the backend belongs to a workspace.\n",
      "  #--------------------------------------------------------------------------------\n",
      "  backend \"gcs\" {\n",
      "    bucket  = \"to_be_replaced\"\n",
      "    prefix  = \"terraform/state\"\n",
      "  }\n",
      "\n",
      "  #--------------------------------------------------------------------------------\n",
      "  # required_providers\n",
      "  #--------------------------------------------------------------------------------\n",
      "  required_providers {\n",
      "    google = {\n",
      "      #--------------------------------------------------------------------------------\n",
      "      # [Google Cloud Platform Provider (overview)]\n",
      "      # * https://registry.terraform.io/providers/hashicorp/google/latest/docs\n",
      "      # The Google provider is used to configure your Google Cloud Platform infrastructure.\n",
      "      # The provider reference for more details on authentication/configuration.\n",
      "      #\n",
      "      # [GCP provider latest version]\n",
      "      # https://registry.terraform.io/providers/hashicorp/google/latest\n",
      "      #\n",
      "      # [Impersonating Service Accounts]\n",
      "      # https://cloud.google.com/iam/docs/creating-short-lived-service-account-credentials\n",
      "      #--------------------------------------------------------------------------------\n",
      "      source = \"hashicorp/google\"\n",
      "      version = \"3.86.0\"\n",
      "    }\n",
      "  }\n",
      "}\n"
     ]
    }
   ],
   "source": [
    "cat versions.tf"
   ]
  },
  {
   "cell_type": "markdown",
   "id": "87e33f4e",
   "metadata": {},
   "source": [
    "---\n",
    "# GCP Project\n",
    "\n",
    "* [Creating a project](https://cloud.google.com/resource-manager/docs/creating-managing-projects#gcloud)\n",
    "```gcloud projects create PROJECT_ID```\n",
    "\n",
    "\n",
    "Make sure to link the project to the billing account. If not linked, the error is caused.\n",
    "```\n",
    "AccessDeniedException: 403 The project to be billed is associated with an absent billing account.\n",
    "```\n",
    "\n",
    "* [gcloud beta billing ](https://cloud.google.com/sdk/gcloud/reference/beta/billing)\n",
    "\n",
    "> gcloud beta billing projects link ${PROJECT_ID} --billing-account 0X0X0X-0X0X0X-0X0X0X\n",
    "\n",
    "\n",
    "```\n",
    "$ gcloud beta billing projects link ${PROJECT_ID} --billing-account 0X0X0X-0X0X0X-0X0X0X\n",
    "billingAccountName: billingAccounts/0X0X0X-0X0X0X-0X0X0X\n",
    "billingEnabled: true\n",
    "name: projects/terraform-20211001125127/billingInfo\n",
    "projectId: terraform-20211001125127\n",
    "```"
   ]
  },
  {
   "cell_type": "code",
   "execution_count": 31,
   "id": "fc9262ab",
   "metadata": {},
   "outputs": [
    {
     "name": "stdout",
     "output_type": "stream",
     "text": [
      "terraform-20211001125127\n"
     ]
    }
   ],
   "source": [
    "PROJECT_ID=\"terraform-$(date +%Y%m%d%H%M%S)\"\n",
    "echo $PROJECT_ID"
   ]
  },
  {
   "cell_type": "code",
   "execution_count": 43,
   "id": "f3f0fa14",
   "metadata": {},
   "outputs": [],
   "source": [
    "ENVIRONMENT=\"dev\""
   ]
  },
  {
   "cell_type": "code",
   "execution_count": 32,
   "id": "043e6bc3",
   "metadata": {},
   "outputs": [
    {
     "name": "stdout",
     "output_type": "stream",
     "text": [
      "Create in progress for [https://cloudresourcemanager.googleapis.com/v1/projects/terraform-20211001125127].\n",
      "Waiting for [operations/cp.7259930078076563699] to finish...done.              \n",
      "Enabling service [cloudapis.googleapis.com] on project [terraform-20211001125127]...\n",
      "Operation \"operations/acf.p2-25902825767-54e6a0fb-b942-4baf-82d1-872cd533ee5d\" finished successfully.\n",
      "Updated property [core/project].\n"
     ]
    }
   ],
   "source": [
    "gcloud projects create $PROJECT_ID\n",
    "gcloud config set core/project $PROJECT_ID"
   ]
  },
  {
   "cell_type": "markdown",
   "id": "77181d41",
   "metadata": {},
   "source": [
    "## Enable APIs\n",
    "\n",
    "To avoid errors.\n",
    "\n",
    "```\n",
    "Error: Error when reading or editing Project : googleapi: Error 403: Cloud Resource Manager API has not been used in project before or it is disabled.\n",
    "```"
   ]
  },
  {
   "cell_type": "code",
   "execution_count": 101,
   "id": "cbb9869a",
   "metadata": {},
   "outputs": [],
   "source": [
    "gcloud services enable cloudresourcemanager.googleapis.com"
   ]
  },
  {
   "cell_type": "markdown",
   "id": "9753c7a9",
   "metadata": {},
   "source": [
    "# Service Account for Terraform"
   ]
  },
  {
   "cell_type": "code",
   "execution_count": 33,
   "id": "251834dd",
   "metadata": {},
   "outputs": [],
   "source": [
    "SERVICE_ACCOUNT_ID=\"terraform\"\n",
    "SERVICE_DESCRIPTION=f\"Terraform service account for ${PROJECT_ID}\"\n",
    "SERVICE_NAME=\"Terraform\" \n",
    "SERVICE_ROLE=\"roles/editor\""
   ]
  },
  {
   "cell_type": "code",
   "execution_count": 34,
   "id": "bcac3ef8",
   "metadata": {},
   "outputs": [
    {
     "name": "stdout",
     "output_type": "stream",
     "text": [
      "Created service account [terraform].\n"
     ]
    }
   ],
   "source": [
    "gcloud iam service-accounts create $SERVICE_ACCOUNT_ID \\\n",
    "    --description=\"$SERVICE_DESCRIPTION\" \\\n",
    "    --display-name=$SERVICE_NAME \\\n",
    "    --project=$PROJECT_ID"
   ]
  },
  {
   "cell_type": "code",
   "execution_count": 35,
   "id": "01bdeafe",
   "metadata": {},
   "outputs": [
    {
     "name": "stdout",
     "output_type": "stream",
     "text": [
      "description: fTerraform service account for terraform-20211001125127\n",
      "displayName: Terraform\n",
      "email: terraform@terraform-20211001125127.iam.gserviceaccount.com\n",
      "etag: MDEwMjE5MjA=\n",
      "name: projects/terraform-20211001125127/serviceAccounts/terraform@terraform-20211001125127.iam.gserviceaccount.com\n",
      "oauth2ClientId: '107583246644728722345'\n",
      "projectId: terraform-20211001125127\n",
      "uniqueId: '107583246644728722345'\n"
     ]
    }
   ],
   "source": [
    "gcloud iam service-accounts describe $SERVICE_ACCOUNT_ID@$PROJECT_ID.iam.gserviceaccount.com"
   ]
  },
  {
   "cell_type": "code",
   "execution_count": 36,
   "id": "b59b1c4c",
   "metadata": {},
   "outputs": [],
   "source": [
    "gcloud projects add-iam-policy-binding $PROJECT_ID \\\n",
    "    --member=\"serviceAccount:$SERVICE_ACCOUNT_ID@$PROJECT_ID.iam.gserviceaccount.com\" \\\n",
    "    --role=$SERVICE_ROLE > /dev/null 2>&1"
   ]
  },
  {
   "cell_type": "markdown",
   "id": "5138ef90",
   "metadata": {},
   "source": [
    "## Allow the local user to impersonate the service account"
   ]
  },
  {
   "cell_type": "code",
   "execution_count": 90,
   "id": "046c63a4",
   "metadata": {},
   "outputs": [],
   "source": [
    "USER_EMAIL=$(gcloud config get-value core/account)\n",
    "gcloud iam service-accounts add-iam-policy-binding \\\n",
    "    $SERVICE_ACCOUNT_ID@$PROJECT_ID.iam.gserviceaccount.com \\\n",
    "    --member=\"user:$USER_EMAIL\" \\\n",
    "    --role=\"roles/iam.serviceAccountTokenCreator\" > /dev/null 2>&1"
   ]
  },
  {
   "cell_type": "markdown",
   "id": "4ceef1f4",
   "metadata": {},
   "source": [
    "# Cloud Storage for terraform backend"
   ]
  },
  {
   "cell_type": "code",
   "execution_count": 64,
   "id": "f78f0e45",
   "metadata": {},
   "outputs": [
    {
     "name": "stdout",
     "output_type": "stream",
     "text": [
      "Creating gs://terraform-20211001125127-dev-terraform-state/...\n"
     ]
    }
   ],
   "source": [
    "BUCKET_NAME=\"${PROJECT_ID}-${ENVIRONMENT}-terraform-state\"\n",
    "gsutil mb -p \"${PROJECT_ID}\" \"gs://${BUCKET_NAME}/\""
   ]
  },
  {
   "cell_type": "code",
   "execution_count": 70,
   "id": "50b41be7",
   "metadata": {},
   "outputs": [
    {
     "name": "stdout",
     "output_type": "stream",
     "text": [
      "gs://\u001b[01;31m\u001b[Kterraform-20211001125127-dev-terraform-state\u001b[m\u001b[K/\n"
     ]
    }
   ],
   "source": [
    "gsutil ls -p ${PROJECT_ID} | grep ${BUCKET_NAME}"
   ]
  },
  {
   "cell_type": "markdown",
   "id": "541b3a28",
   "metadata": {},
   "source": [
    "---"
   ]
  },
  {
   "cell_type": "markdown",
   "id": "832eaa8c",
   "metadata": {},
   "source": [
    "# Terraform Backend\n",
    "\n",
    "* [Backend Configuration](https://www.terraform.io/docs/language/settings/backends/configuration.html)\n",
    "\n",
    "Resource states are stored in the backend. Whenever a configuration's backend changes, you must run terraform init again to validate and configure the backend before you can perform any plans, applies, or state operations.\n",
    "\n",
    "\n",
    "##  Workspace\n",
    "\n",
    "* [Workspaces](https://www.terraform.io/docs/language/state/workspaces.html)\n",
    "\n",
    "> The persistent data stored in the backend belongs to a workspace. Initially the backend has only one workspace, called \"default\".\n",
    "\n",
    "### Commands for workspace\n",
    "\n",
    "* [Terfaform command workspace](https://www.terraform.io/docs/cli/commands/workspace/index.html)\n",
    "\n",
    "> ```terraform workspace <subcommand> [options] [args]```\n",
    "    \n",
    "To create a workspace and switch to it:\n",
    "```terraform workspace new [OPTIONS] NAME [DIR]```\n",
    "    \n",
    "To siwtch to a workspace:\n",
    "```terraform workspace select NAME [DIR]```\n",
    "    "
   ]
  },
  {
   "cell_type": "markdown",
   "id": "6a0fd12d",
   "metadata": {},
   "source": [
    "## Terraform Variables"
   ]
  },
  {
   "cell_type": "code",
   "execution_count": 71,
   "id": "bb01ef68",
   "metadata": {},
   "outputs": [
    {
     "name": "stdout",
     "output_type": "stream",
     "text": [
      "terraform-20211001125127\n",
      "terraform@terraform-20211001125127.iam.gserviceaccount.com\n",
      "terraform-20211001125127-dev-terraform-state\n"
     ]
    }
   ],
   "source": [
    "export TF_VAR_PROJECT_ID=${PROJECT_ID}\n",
    "export TF_VAR_GCP_TERRAFORM_SERVICE_ACCOUNT_ID=\"${SERVICE_ACCOUNT_ID}@${PROJECT_ID}.iam.gserviceaccount.com\"\n",
    "export TF_VAR_BACKEND_BUCKET=\"${BUCKET_NAME}\"\n",
    "\n",
    "echo ${TF_VAR_PROJECT_ID}\n",
    "echo ${TF_VAR_GCP_TERRAFORM_SERVICE_ACCOUNT_ID}\n",
    "echo ${TF_VAR_BACKEND_BUCKET}"
   ]
  },
  {
   "cell_type": "markdown",
   "id": "febc5f89",
   "metadata": {},
   "source": [
    "## Initialize Terraform\n",
    "\n",
    "## Dynamically set the backend configuration\n",
    "\n",
    "To avoid hard-coding the terraform backend configurations, use the ```backend-config``` command line option.\n",
    "\n",
    "* [Using variables in terraform backend config block #13022](https://github.com/hashicorp/terraform/issues/13022)\n",
    "\n",
    "```\n",
    "terraform {\n",
    "  backend \"azurerm\" {\n",
    "    resource_group_name  = \"rg-demo-terraform-simple-storage-container\"\n",
    "    storage_account_name = \"<THIS WILL BE REPLACED VIA -backend-config>\"  # <---\n",
    "    container_name       = \"tfstate\"\n",
    "    key                  = \"mydemo.tfstate\"\n",
    "\n",
    "  }\n",
    "}\n",
    "\n",
    "$ terraform init -reconfigure -backend-config=\"storage_account_name=anotherstorage0123\"\n",
    "```"
   ]
  },
  {
   "cell_type": "code",
   "execution_count": 72,
   "id": "b0844dd9",
   "metadata": {},
   "outputs": [
    {
     "name": "stdout",
     "output_type": "stream",
     "text": [
      "\n",
      "\u001b[0m\u001b[1mInitializing the backend...\u001b[0m\n",
      "\u001b[0m\u001b[32m\n",
      "Successfully configured the backend \"gcs\"! Terraform will automatically\n",
      "use this backend unless the backend configuration changes.\u001b[0m\n",
      "\n",
      "\u001b[0m\u001b[1mInitializing provider plugins...\u001b[0m\n",
      "- Finding hashicorp/google versions matching \"3.86.0\"...\n",
      "- Installing hashicorp/google v3.86.0...\n",
      "- Installed hashicorp/google v3.86.0 (signed by HashiCorp)\n",
      "\n",
      "Terraform has created a lock file \u001b[1m.terraform.lock.hcl\u001b[0m to record the provider\n",
      "selections it made above. Include this file in your version control repository\n",
      "so that Terraform can guarantee to make the same selections by default when\n",
      "you run \"terraform init\" in the future.\u001b[0m\n",
      "\n",
      "\u001b[0m\u001b[1m\u001b[32mTerraform has been successfully initialized!\u001b[0m\u001b[32m\u001b[0m\n",
      "\u001b[0m\u001b[32m\n",
      "You may now begin working with Terraform. Try running \"terraform plan\" to see\n",
      "any changes that are required for your infrastructure. All Terraform commands\n",
      "should now work.\n",
      "\n",
      "If you ever set or change modules or backend configuration for Terraform,\n",
      "rerun this command to reinitialize your working directory. If you forget, other\n",
      "commands will detect it and remind you to do so if necessary.\u001b[0m\n"
     ]
    }
   ],
   "source": [
    "terraform init -reconfigure -backend-config=\"bucket=$TF_VAR_BACKEND_BUCKET\""
   ]
  },
  {
   "cell_type": "code",
   "execution_count": 73,
   "id": "3cc6be32",
   "metadata": {},
   "outputs": [
    {
     "name": "stdout",
     "output_type": "stream",
     "text": [
      "\u001b[0m\u001b[32m\u001b[1mCreated and switched to workspace \"dev\"!\u001b[0m\u001b[32m\n",
      "\n",
      "You're now on a new, empty workspace. Workspaces isolate their state,\n",
      "so if you run \"terraform plan\" Terraform will not see any existing state\n",
      "for this configuration.\u001b[0m\n"
     ]
    }
   ],
   "source": [
    "terraform workspace new dev"
   ]
  },
  {
   "cell_type": "code",
   "execution_count": 75,
   "id": "2b2699be",
   "metadata": {},
   "outputs": [
    {
     "name": "stdout",
     "output_type": "stream",
     "text": [
      "\u001b[0m\u001b[32m\u001b[1mCreated and switched to workspace \"uat\"!\u001b[0m\u001b[32m\n",
      "\n",
      "You're now on a new, empty workspace. Workspaces isolate their state,\n",
      "so if you run \"terraform plan\" Terraform will not see any existing state\n",
      "for this configuration.\u001b[0m\n"
     ]
    }
   ],
   "source": [
    "terraform workspace new uat"
   ]
  },
  {
   "cell_type": "code",
   "execution_count": 81,
   "id": "7f636981",
   "metadata": {},
   "outputs": [
    {
     "name": "stdout",
     "output_type": "stream",
     "text": [
      "\u001b[0m\u001b[32mSwitched to workspace \"dev\".\u001b[0m\n"
     ]
    }
   ],
   "source": [
    "terraform workspace select dev"
   ]
  },
  {
   "cell_type": "markdown",
   "id": "de0e9079",
   "metadata": {},
   "source": [
    "## Backend state files created\n",
    "<img src=\"image/backend_workspace_state_files.png\" align=\"left\" width=\"600\"/>"
   ]
  },
  {
   "cell_type": "markdown",
   "id": "95ea4ae3",
   "metadata": {},
   "source": [
    "---\n",
    "# GCP resource provision"
   ]
  },
  {
   "cell_type": "markdown",
   "id": "a5570881",
   "metadata": {},
   "source": [
    "## GCP Provider"
   ]
  },
  {
   "cell_type": "code",
   "execution_count": 102,
   "id": "65d048ca",
   "metadata": {
    "scrolled": true
   },
   "outputs": [
    {
     "name": "stdout",
     "output_type": "stream",
     "text": [
      "data \"google_project\" \"current\" {\n",
      "  #--------------------------------------------------------------------------------\n",
      "  # [Datarouce google_project]\n",
      "  # https://registry.terraform.io/providers/hashicorp/google/latest/docs/data-sources/project\n",
      "  # [Resource google_project]\n",
      "  # https://registry.terraform.io/providers/hashicorp/google/latest/docs/resources/google_project\n",
      "  #--------------------------------------------------------------------------------\n",
      "  project_id = var.PROJECT_ID\n",
      "}\n",
      "\n",
      "output \"project_number\" {\n",
      "  value = data.google_project.current.number\n",
      "}\n",
      "\n",
      "output \"project_id\" {\n",
      "  value = data.google_project.current.project_id\n",
      "}\n",
      "variable \"GCP_TERRAFORM_SERVICE_ACCOUNT_ID\" {\n",
      "  type = string\n",
      "  description = \"Service account to impersonate\"\n",
      "}\n",
      "\n",
      "provider \"google\" {\n",
      "  #--------------------------------------------------------------------------------\n",
      "  # [Google Provider Configuration Reference]\n",
      "  # https://registry.terraform.io/providers/hashicorp/google/latest/docs/guides/provider_reference\n",
      "  # https://www.terraform.io/docs/language/providers/configuration.html\n",
      "  #--------------------------------------------------------------------------------\n",
      "  project = var.PROJECT_ID\n",
      "  region = var.REGION\n",
      "  impersonate_service_account = var.GCP_TERRAFORM_SERVICE_ACCOUNT_ID\n",
      "}\n"
     ]
    }
   ],
   "source": [
    "cat gcp.tf"
   ]
  },
  {
   "cell_type": "code",
   "execution_count": 97,
   "id": "2e4aac43",
   "metadata": {},
   "outputs": [
    {
     "name": "stdout",
     "output_type": "stream",
     "text": [
      "Acquiring state lock. This may take a few moments...\n",
      "\n",
      "\u001b[0m\u001b[1m\u001b[32mNo changes.\u001b[0m\u001b[1m Your infrastructure matches the configuration.\u001b[0m\n",
      "\n",
      "\u001b[0mTerraform has compared your real infrastructure against your configuration and\n",
      "found no differences, so no changes are needed.\n"
     ]
    }
   ],
   "source": [
    "terraform plan"
   ]
  },
  {
   "cell_type": "code",
   "execution_count": 99,
   "id": "7e30a7ac",
   "metadata": {},
   "outputs": [
    {
     "name": "stdout",
     "output_type": "stream",
     "text": [
      "\u001b[0m\n",
      "\u001b[1mChanges to Outputs:\u001b[0m\u001b[0m\n",
      "  \u001b[32m+\u001b[0m \u001b[0m\u001b[1m\u001b[0mproject_id\u001b[0m\u001b[0m     = \"terraform-20211001125127\"\n",
      "  \u001b[32m+\u001b[0m \u001b[0m\u001b[1m\u001b[0mproject_number\u001b[0m\u001b[0m = \"25902825767\"\n",
      "\n",
      "You can apply this plan to save these new output values to the Terraform state,\n",
      "without changing any real infrastructure.\n",
      "\u001b[0m\u001b[1m\u001b[32m\n",
      "Apply complete! Resources: 0 added, 0 changed, 0 destroyed.\n",
      "\u001b[0m\u001b[0m\u001b[1m\u001b[32m\n",
      "Outputs:\n",
      "\n",
      "\u001b[0mproject_id = \"terraform-20211001125127\"\n",
      "project_number = \"25902825767\"\n"
     ]
    }
   ],
   "source": [
    "terraform apply --auto-approve"
   ]
  },
  {
   "cell_type": "code",
   "execution_count": null,
   "id": "762fc46a",
   "metadata": {},
   "outputs": [],
   "source": []
  }
 ],
 "metadata": {
  "kernelspec": {
   "display_name": "Bash",
   "language": "bash",
   "name": "bash"
  },
  "language_info": {
   "codemirror_mode": "shell",
   "file_extension": ".sh",
   "mimetype": "text/x-sh",
   "name": "bash"
  }
 },
 "nbformat": 4,
 "nbformat_minor": 5
}
