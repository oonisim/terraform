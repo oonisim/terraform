{
 "cells": [
  {
   "cell_type": "markdown",
   "id": "484bc2df",
   "metadata": {},
   "source": [
    "# Isolate/Separate states\n",
    "\n",
    "* [Separate states](https://learn.hashicorp.com/tutorials/terraform/organize-configuration#separate-states)\n",
    "\n",
    "> State separation signals more mature usage of Terraform; with additional maturity comes additional complexity. There are two primary methods to separate state between environments: directories and workspaces.  \n",
    ">  \n",
    "> To separate environments with potential configuration differences, use a directory structure. Use workspaces for environments that do not greatly deviate from one another, to avoid duplicating your configurations.\n",
    "\n",
    "## Isolation by directory\n",
    "\n",
    "```\n",
    ".\n",
    "├── assets\n",
    "│   ├── index.html\n",
    "├── prod\n",
    "│   ├── main.tf\n",
    "│   ├── variables.tf\n",
    "│   ├── terraform.tfstate\n",
    "│   └── terraform.tfvars\n",
    "└── dev\n",
    "   ├── main.tf\n",
    "   ├── variables.tf\n",
    "   ├── terraform.tfstate\n",
    "   └── terraform.tfvars\n",
    "```\n",
    "\n",
    "## Isolation by workspace\n",
    "\n",
    "> When you add additional workspaces your state location changes; Terraform internals manage and store state files in the directory terraform.tfstate.d.\n",
    "\n",
    "```\n",
    ".\n",
    "├── README.md\n",
    "├── assets\n",
    "│   └── index.html\n",
    "├── dev.tfvars\n",
    "├── main.tf\n",
    "├── outputs.tf\n",
    "├── prod.tfvars\n",
    "├── terraform.tfstate.d\n",
    "│   ├── dev\n",
    "│   │   └── terraform.tfstate\n",
    "│   ├── prod\n",
    "│   │   └── terraform.tfstate\n",
    "├── terraform.tfvars\n",
    "└── variables.tf\n",
    "```"
   ]
  },
  {
   "cell_type": "code",
   "execution_count": null,
   "id": "86d914d8",
   "metadata": {},
   "outputs": [],
   "source": []
  },
  {
   "cell_type": "code",
   "execution_count": null,
   "id": "90f838c8",
   "metadata": {},
   "outputs": [],
   "source": []
  },
  {
   "cell_type": "code",
   "execution_count": null,
   "id": "c26f90fc",
   "metadata": {},
   "outputs": [],
   "source": []
  },
  {
   "cell_type": "code",
   "execution_count": null,
   "id": "9165d1cc",
   "metadata": {},
   "outputs": [],
   "source": []
  },
  {
   "cell_type": "code",
   "execution_count": null,
   "id": "3615480e",
   "metadata": {},
   "outputs": [],
   "source": []
  }
 ],
 "metadata": {
  "kernelspec": {
   "display_name": "Bash",
   "language": "bash",
   "name": "bash"
  },
  "language_info": {
   "codemirror_mode": "shell",
   "file_extension": ".sh",
   "mimetype": "text/x-sh",
   "name": "bash"
  }
 },
 "nbformat": 4,
 "nbformat_minor": 5
}
